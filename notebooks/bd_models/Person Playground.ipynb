{
 "cells": [
  {
   "cell_type": "code",
   "execution_count": 24,
   "metadata": {},
   "outputs": [],
   "source": [
    "import sys\n",
    "\n",
    "#define a raiz do projeto par aser possivel importar os modulos\n",
    "sys.path.append(\"../../src\")\n",
    "\n",
    "def restart_django():\n",
    "    import os\n",
    "    import sys\n",
    "    import django\n",
    "    #define a raiz do projeto par aser possivel importar os modulos\n",
    "    sys.path.append(\"../../src\")\n",
    "\n",
    "    #configura o ambiente\n",
    "    os.environ.setdefault(\"DJANGO_SETTINGS_MODULE\", \"toy_example.settings\")\n",
    "    os.environ[\"DJANGO_ALLOW_ASYNC_UNSAFE\"] = \"true\"\n",
    "    django.setup()\n",
    "restart_django()"
   ]
  },
  {
   "cell_type": "markdown",
   "metadata": {},
   "source": [
    "Um dos objetivos do jupyter é \"brincar\" e entender o que foi feito e fazer testes preliminares. Até para ajudar a criar métodos mais complexos...vejam aqui como testamos a classe pessoa (Person, do arquivo `person.py`) e a classe EyeColor (do arquivo `models.py`). Não esqueça de **reiniciar o kernel caso tenha mudado algo no código**."
   ]
  },
  {
   "cell_type": "code",
   "execution_count": 25,
   "metadata": {},
   "outputs": [],
   "source": [
    "from toy.models import *"
   ]
  },
  {
   "cell_type": "code",
   "execution_count": 26,
   "metadata": {},
   "outputs": [
    {
     "data": {
      "text/plain": "<QuerySet [Eye color: amber, Eye color: hazel, Eye color: blue, Eye color: green, Eye color: brown, Eye color: dark-brown]>"
     },
     "execution_count": 26,
     "metadata": {},
     "output_type": "execute_result"
    }
   ],
   "source": [
    "#veja que as cores dos olhos são automaticamente inseridas e é facil ve-las\n",
    "EyeColor.objects.all()\n"
   ]
  },
  {
   "cell_type": "code",
   "execution_count": 27,
   "metadata": {},
   "outputs": [
    {
     "data": {
      "text/plain": "[('amber', 'Amber'),\n ('hazel', 'Hazel'),\n ('blue', 'Blue'),\n ('green', 'Green'),\n ('brown', 'Brown'),\n ('dark-brown', 'Dark Brown')]"
     },
     "execution_count": 27,
     "metadata": {},
     "output_type": "execute_result"
    }
   ],
   "source": [
    "EyeColor.color_name.field.choices"
   ]
  },
  {
   "cell_type": "code",
   "execution_count": 28,
   "metadata": {},
   "outputs": [
    {
     "data": {
      "text/plain": "[{'id': 1, 'color_name': 'amber'},\n {'id': 2, 'color_name': 'hazel'},\n {'id': 3, 'color_name': 'blue'},\n {'id': 4, 'color_name': 'green'},\n {'id': 5, 'color_name': 'brown'},\n {'id': 6, 'color_name': 'dark-brown'}]"
     },
     "execution_count": 28,
     "metadata": {},
     "output_type": "execute_result"
    }
   ],
   "source": [
    "#caso queira visualizar de forma mais bonitinha, \n",
    "#transforme numa lista de dicionario de valores\n",
    "#e use o pandas\n",
    "import pandas as pd\n",
    "eyes_list = EyeColor.objects.all().values()\n",
    "list(eyes_list)"
   ]
  },
  {
   "cell_type": "code",
   "execution_count": 29,
   "metadata": {},
   "outputs": [
    {
     "data": {
      "text/plain": "   id  color_name\n0   1       amber\n1   2       hazel\n2   3        blue\n3   4       green\n4   5       brown\n5   6  dark-brown",
      "text/html": "<div>\n<style scoped>\n    .dataframe tbody tr th:only-of-type {\n        vertical-align: middle;\n    }\n\n    .dataframe tbody tr th {\n        vertical-align: top;\n    }\n\n    .dataframe thead th {\n        text-align: right;\n    }\n</style>\n<table border=\"1\" class=\"dataframe\">\n  <thead>\n    <tr style=\"text-align: right;\">\n      <th></th>\n      <th>id</th>\n      <th>color_name</th>\n    </tr>\n  </thead>\n  <tbody>\n    <tr>\n      <th>0</th>\n      <td>1</td>\n      <td>amber</td>\n    </tr>\n    <tr>\n      <th>1</th>\n      <td>2</td>\n      <td>hazel</td>\n    </tr>\n    <tr>\n      <th>2</th>\n      <td>3</td>\n      <td>blue</td>\n    </tr>\n    <tr>\n      <th>3</th>\n      <td>4</td>\n      <td>green</td>\n    </tr>\n    <tr>\n      <th>4</th>\n      <td>5</td>\n      <td>brown</td>\n    </tr>\n    <tr>\n      <th>5</th>\n      <td>6</td>\n      <td>dark-brown</td>\n    </tr>\n  </tbody>\n</table>\n</div>"
     },
     "execution_count": 29,
     "metadata": {},
     "output_type": "execute_result"
    }
   ],
   "source": [
    "pd.DataFrame.from_dict(eyes_list)"
   ]
  },
  {
   "cell_type": "markdown",
   "metadata": {},
   "source": [
    "Também é possivel brincar com inserções e métodos que fizemos das classes: "
   ]
  },
  {
   "cell_type": "code",
   "execution_count": 30,
   "metadata": {},
   "outputs": [
    {
     "data": {
      "text/plain": "Name: Adamastor birth: 1984-04-14 00:00:00"
     },
     "execution_count": 30,
     "metadata": {},
     "output_type": "execute_result"
    }
   ],
   "source": [
    "from datetime import datetime\n",
    "cor_azul = EyeColor.objects.get(color_name=EyeColor.BLUE)\n",
    "Person.objects.create(name=\"Adamastor\",birth_date=datetime.strptime(\"14/04/1984\", '%d/%m/%Y'), eye_color=cor_azul)"
   ]
  },
  {
   "cell_type": "code",
   "execution_count": 31,
   "metadata": {},
   "outputs": [
    {
     "data": {
      "text/plain": "<QuerySet [Name: deg do dereg deg birth: 2002-02-28, Name: Comunicação birth: 2022-09-28, Name: Daniel Hasan Dalip birth: 2022-07-13, Name: asdasd birth: 2022-07-02, Name: Daniel Hasan Dalip birth: 2022-09-08, Name: Daniel Hasan Dalip birth: 2022-09-08, Name: Daniel Hasan Dalip birth: 2022-09-08, Name: Daniel Hasan Dalip birth: 2022-09-08, Name: deg do dereg deg birth: 2005-03-04, Name: deg do dereg deg birth: 2005-03-04, Name: Comunicaçã birth: 2002-03-05, Name: Adamastor birth: 1984-04-14, Name: Fabio birth: 1999-01-11, Name: Gabriel birth: 2000-03-11, Name: Hugo birth: 1984-04-14, Name: Alice birth: 1984-03-04, Name: Bob birth: 1999-02-12, Name: Carol birth: 2004-01-14, Name: Adamastor birth: 1984-04-14, Name: Fabio birth: 1999-01-11, '...(remaining elements truncated)...']>"
     },
     "execution_count": 31,
     "metadata": {},
     "output_type": "execute_result"
    }
   ],
   "source": [
    "Person.objects.all()"
   ]
  },
  {
   "cell_type": "code",
   "execution_count": 32,
   "metadata": {},
   "outputs": [],
   "source": [
    "Person.objects.create_from_csv(\"../../data/tests/person.csv\")"
   ]
  },
  {
   "cell_type": "code",
   "execution_count": 33,
   "metadata": {},
   "outputs": [
    {
     "data": {
      "text/plain": "                   name eye_color__color_name  birth_date\n0      deg do dereg deg                  blue  2002-02-28\n1           Comunicação                 amber  2022-09-28\n2    Daniel Hasan Dalip                  blue  2022-07-13\n3                asdasd            dark-brown  2022-07-02\n4    Daniel Hasan Dalip                 green  2022-09-08\n..                  ...                   ...         ...\n139           Adamastor                  blue  1984-04-14\n140               Elisa                 green  2022-02-12\n141               Fabio                  blue  1999-01-11\n142             Gabriel                 green  2000-03-11\n143                Hugo                 brown  1984-04-14\n\n[144 rows x 3 columns]",
      "text/html": "<div>\n<style scoped>\n    .dataframe tbody tr th:only-of-type {\n        vertical-align: middle;\n    }\n\n    .dataframe tbody tr th {\n        vertical-align: top;\n    }\n\n    .dataframe thead th {\n        text-align: right;\n    }\n</style>\n<table border=\"1\" class=\"dataframe\">\n  <thead>\n    <tr style=\"text-align: right;\">\n      <th></th>\n      <th>name</th>\n      <th>eye_color__color_name</th>\n      <th>birth_date</th>\n    </tr>\n  </thead>\n  <tbody>\n    <tr>\n      <th>0</th>\n      <td>deg do dereg deg</td>\n      <td>blue</td>\n      <td>2002-02-28</td>\n    </tr>\n    <tr>\n      <th>1</th>\n      <td>Comunicação</td>\n      <td>amber</td>\n      <td>2022-09-28</td>\n    </tr>\n    <tr>\n      <th>2</th>\n      <td>Daniel Hasan Dalip</td>\n      <td>blue</td>\n      <td>2022-07-13</td>\n    </tr>\n    <tr>\n      <th>3</th>\n      <td>asdasd</td>\n      <td>dark-brown</td>\n      <td>2022-07-02</td>\n    </tr>\n    <tr>\n      <th>4</th>\n      <td>Daniel Hasan Dalip</td>\n      <td>green</td>\n      <td>2022-09-08</td>\n    </tr>\n    <tr>\n      <th>...</th>\n      <td>...</td>\n      <td>...</td>\n      <td>...</td>\n    </tr>\n    <tr>\n      <th>139</th>\n      <td>Adamastor</td>\n      <td>blue</td>\n      <td>1984-04-14</td>\n    </tr>\n    <tr>\n      <th>140</th>\n      <td>Elisa</td>\n      <td>green</td>\n      <td>2022-02-12</td>\n    </tr>\n    <tr>\n      <th>141</th>\n      <td>Fabio</td>\n      <td>blue</td>\n      <td>1999-01-11</td>\n    </tr>\n    <tr>\n      <th>142</th>\n      <td>Gabriel</td>\n      <td>green</td>\n      <td>2000-03-11</td>\n    </tr>\n    <tr>\n      <th>143</th>\n      <td>Hugo</td>\n      <td>brown</td>\n      <td>1984-04-14</td>\n    </tr>\n  </tbody>\n</table>\n<p>144 rows × 3 columns</p>\n</div>"
     },
     "execution_count": 33,
     "metadata": {},
     "output_type": "execute_result"
    }
   ],
   "source": [
    "import pandas as pd\n",
    "#ao buscar, seleciona apenas o nome, a cor do olho (pelo seu nome) e a data de nascimento\n",
    "person_list = Person.objects.all().values(\"name\",\"eye_color__color_name\",\"birth_date\")\n",
    "pd.DataFrame.from_dict(person_list)"
   ]
  },
  {
   "cell_type": "markdown",
   "metadata": {},
   "source": [
    "Esse foi um teste que fiz para depois criar o arquivo de [testes automatizados da da classe pessoa](../../src/productivity_view/tests/models/person.py)"
   ]
  },
  {
   "cell_type": "code",
   "execution_count": 34,
   "metadata": {},
   "outputs": [
    {
     "data": {
      "text/plain": "[Name: Alice birth: 1984-03-04 00:00:00,\n Name: Bob birth: 1999-02-12 00:00:00,\n Name: Carol birth: 2004-01-14 00:00:00]"
     },
     "execution_count": 34,
     "metadata": {},
     "output_type": "execute_result"
    }
   ],
   "source": [
    "#create_bulk cria varias pesssoas\n",
    "cor_azul = EyeColor.objects.get(color_name=EyeColor.BLUE)\n",
    "cor_castanho = EyeColor.objects.get(color_name=EyeColor.BROWN)\n",
    "cor_verde = EyeColor.objects.get(color_name=EyeColor.GREEN)\n",
    "Person.objects.bulk_create(\n",
    "    [Person(name=\"Alice\",birth_date=datetime.strptime(\"04/03/1984\", '%d/%m/%Y'), eye_color=cor_azul),\n",
    "     Person(name=\"Bob\",birth_date=datetime.strptime(\"12/02/1999\", '%d/%m/%Y'), eye_color=cor_castanho),\n",
    "     Person(name=\"Carol\",birth_date=datetime.strptime(\"14/01/2004\", '%d/%m/%Y'), eye_color=cor_verde)]\n",
    ")"
   ]
  },
  {
   "cell_type": "markdown",
   "metadata": {},
   "source": [
    "o get só funciona quando temos *apenas uma* instancia a ser retornada...caso vc de get e a função retorne um valor diferente de um, será lançada uma exceção. Faça o teste abaixo"
   ]
  },
  {
   "cell_type": "code",
   "execution_count": 35,
   "outputs": [
    {
     "data": {
      "text/plain": "Name: Elisa birth: 2022-02-12"
     },
     "execution_count": 35,
     "metadata": {},
     "output_type": "execute_result"
    }
   ],
   "source": [
    "pessoa = Person.objects.get(name=\"Elisa\")\n",
    "pessoa"
   ],
   "metadata": {
    "collapsed": false
   }
  },
  {
   "cell_type": "code",
   "execution_count": 36,
   "metadata": {},
   "outputs": [
    {
     "data": {
      "text/plain": "38"
     },
     "execution_count": 36,
     "metadata": {},
     "output_type": "execute_result"
    }
   ],
   "source": [
    "from dateutil.relativedelta import relativedelta\n",
    "\n",
    "data = datetime.strptime(\"14/04/1984\", '%d/%m/%Y')\n",
    "relativedelta(datetime.now(),data).years"
   ]
  },
  {
   "cell_type": "code",
   "execution_count": 37,
   "outputs": [
    {
     "data": {
      "text/plain": "(1, {'toy.Person': 1})"
     },
     "execution_count": 37,
     "metadata": {},
     "output_type": "execute_result"
    }
   ],
   "source": [
    "Person.objects.filter(name='Elisa').delete()"
   ],
   "metadata": {
    "collapsed": false
   }
  },
  {
   "cell_type": "code",
   "execution_count": 38,
   "outputs": [
    {
     "name": "stdout",
     "output_type": "stream",
     "text": [
      "146\n"
     ]
    },
    {
     "data": {
      "text/plain": "        color  quantity\n0        None         0\n1       amber         1\n2        blue        57\n3       brown        36\n4  dark-brown         1\n5       green        42\n6       hazel         7",
      "text/html": "<div>\n<style scoped>\n    .dataframe tbody tr th:only-of-type {\n        vertical-align: middle;\n    }\n\n    .dataframe tbody tr th {\n        vertical-align: top;\n    }\n\n    .dataframe thead th {\n        text-align: right;\n    }\n</style>\n<table border=\"1\" class=\"dataframe\">\n  <thead>\n    <tr style=\"text-align: right;\">\n      <th></th>\n      <th>color</th>\n      <th>quantity</th>\n    </tr>\n  </thead>\n  <tbody>\n    <tr>\n      <th>0</th>\n      <td>None</td>\n      <td>0</td>\n    </tr>\n    <tr>\n      <th>1</th>\n      <td>amber</td>\n      <td>1</td>\n    </tr>\n    <tr>\n      <th>2</th>\n      <td>blue</td>\n      <td>57</td>\n    </tr>\n    <tr>\n      <th>3</th>\n      <td>brown</td>\n      <td>36</td>\n    </tr>\n    <tr>\n      <th>4</th>\n      <td>dark-brown</td>\n      <td>1</td>\n    </tr>\n    <tr>\n      <th>5</th>\n      <td>green</td>\n      <td>42</td>\n    </tr>\n    <tr>\n      <th>6</th>\n      <td>hazel</td>\n      <td>7</td>\n    </tr>\n  </tbody>\n</table>\n</div>"
     },
     "execution_count": 38,
     "metadata": {},
     "output_type": "execute_result"
    }
   ],
   "source": [
    "from django.db.models import Count, F\n",
    "\n",
    "\n",
    "print(Person.objects.count())  # For some reason there are more intances of Person than there are pairs of eyes\n",
    "pd.DataFrame(Person.objects.values(color=F('eye_color__color_name')).annotate(quantity=Count('eye_color')))"
   ],
   "metadata": {
    "collapsed": false
   }
  },
  {
   "cell_type": "code",
   "execution_count": 39,
   "outputs": [
    {
     "data": {
      "text/plain": "        color  quantity\n0        None         0\n1       amber         1\n2        blue        57\n3       brown        36\n4  dark-brown         1\n5       green        42\n6       hazel         7",
      "text/html": "<div>\n<style scoped>\n    .dataframe tbody tr th:only-of-type {\n        vertical-align: middle;\n    }\n\n    .dataframe tbody tr th {\n        vertical-align: top;\n    }\n\n    .dataframe thead th {\n        text-align: right;\n    }\n</style>\n<table border=\"1\" class=\"dataframe\">\n  <thead>\n    <tr style=\"text-align: right;\">\n      <th></th>\n      <th>color</th>\n      <th>quantity</th>\n    </tr>\n  </thead>\n  <tbody>\n    <tr>\n      <th>0</th>\n      <td>None</td>\n      <td>0</td>\n    </tr>\n    <tr>\n      <th>1</th>\n      <td>amber</td>\n      <td>1</td>\n    </tr>\n    <tr>\n      <th>2</th>\n      <td>blue</td>\n      <td>57</td>\n    </tr>\n    <tr>\n      <th>3</th>\n      <td>brown</td>\n      <td>36</td>\n    </tr>\n    <tr>\n      <th>4</th>\n      <td>dark-brown</td>\n      <td>1</td>\n    </tr>\n    <tr>\n      <th>5</th>\n      <td>green</td>\n      <td>42</td>\n    </tr>\n    <tr>\n      <th>6</th>\n      <td>hazel</td>\n      <td>7</td>\n    </tr>\n  </tbody>\n</table>\n</div>"
     },
     "execution_count": 39,
     "metadata": {},
     "output_type": "execute_result"
    }
   ],
   "source": [
    "pd.DataFrame(Person.objects.count_person_per_eye_color())"
   ],
   "metadata": {
    "collapsed": false
   }
  },
  {
   "cell_type": "code",
   "execution_count": 40,
   "outputs": [],
   "source": [
    "Person.objects.create_from_csv('../../data/tests/person2.csv')"
   ],
   "metadata": {
    "collapsed": false
   }
  },
  {
   "cell_type": "code",
   "execution_count": 41,
   "outputs": [
    {
     "data": {
      "text/plain": "<QuerySet [Name: Pedro birth: 2000-06-13, Name: Pedro birth: 2000-06-13, Name: Pedro birth: 2000-06-13, Name: Pedro birth: 2000-06-13, Name: Pedro birth: 2000-06-13, Name: Pedro birth: 2000-06-13]>"
     },
     "execution_count": 41,
     "metadata": {},
     "output_type": "execute_result"
    }
   ],
   "source": [
    "Person.objects.filter(name='Pedro', eye_color=EyeColor.objects.get(color_name=EyeColor.HAZEL))"
   ],
   "metadata": {
    "collapsed": false
   }
  },
  {
   "cell_type": "code",
   "execution_count": 42,
   "outputs": [
    {
     "data": {
      "text/plain": "<QuerySet [Name: Ingrid birth: 1988-09-23]>"
     },
     "execution_count": 42,
     "metadata": {},
     "output_type": "execute_result"
    }
   ],
   "source": [
    "Person.objects.filter(name='Ingrid', eye_color=EyeColor.objects.get(color_name=EyeColor.BROWN))"
   ],
   "metadata": {
    "collapsed": false
   }
  }
 ],
 "metadata": {
  "interpreter": {
   "hash": "31f2aee4e71d21fbe5cf8b01ff0e069b9275f58929596ceb00d14d90e3e16cd6"
  },
  "kernelspec": {
   "display_name": "Python 3",
   "language": "python",
   "name": "python3"
  },
  "language_info": {
   "codemirror_mode": {
    "name": "ipython",
    "version": 3
   },
   "file_extension": ".py",
   "mimetype": "text/x-python",
   "name": "python",
   "nbconvert_exporter": "python",
   "pygments_lexer": "ipython3",
   "version": "3.8.10"
  }
 },
 "nbformat": 4,
 "nbformat_minor": 4
}
